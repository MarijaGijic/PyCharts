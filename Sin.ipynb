import numpy as np
import matplotlib.pylab as plt
#t = np.arange(0, 2, 0.01) # sto vise podeoka tako je funckija preciznija
#s = np.sin(2 * np.pi * t) #sinsna funckija ima period od 2pi
#fig, ax = plt.subplots() # figura
#s = np.sin(np.array((0., 30., 45., 60., 90.)) * np.pi / 180. )
#ax.plot(s)

#ax.set(xlabel='time (s)', ylabel='voltage (mV)',
     #  title='About as simple as it gets, folks')
#ax.grid()

x = np.linspace(-np.pi, np.pi, 201)
plt.plot(x, np.sin(x))
plt.xlabel('Angle [rad]')
plt.ylabel('sin(x)')
plt.axis('tight')

#fig.savefig("test.png")
plt.show()
