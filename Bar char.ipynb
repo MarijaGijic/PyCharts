import numpy as np
from matplotlib import pyplot as plt
ages_x = [25, 26, 27, 28, 29, 30, 31, 32, 33, 34, 35]

x_indexes = np.arange(len(ages_x))
width = 0.25

dev_y = [27, 28, 29, 30, 31, 32, 33, 34, 36, 38, 39]
plt.bar(x_indexes, dev_y, label="All Devs", width=width)


py_devy = [20, 21, 22, 23, 24, 25, 33, 34, 36, 38, 39]
plt.bar(x_indexes + width, py_devy, label="Python", color="#4b0082", width=width, linewidth=3)

plt.xticks(ticks=x_indexes, labels=ages_x)
plt.legend()
plt.title("MEdian SAlary")
plt.xlabel("Ages")
plt.ylabel("Median Salary")
plt.legend()
